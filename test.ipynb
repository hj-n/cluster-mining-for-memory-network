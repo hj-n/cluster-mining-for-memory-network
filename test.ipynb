{
 "cells": [
  {
   "cell_type": "code",
   "execution_count": 24,
   "metadata": {},
   "outputs": [
    {
     "data": {
      "text/plain": [
       "<module 'clustering' from '/home/hj/cluster_mining_memory_network/clustering.py'>"
      ]
     },
     "execution_count": 24,
     "metadata": {},
     "output_type": "execute_result"
    }
   ],
   "source": [
    "import importlib\n",
    "import matplotlib.pyplot as plt\n",
    "import numpy as np\n",
    "\n",
    "import read_data as rd\n",
    "importlib.reload(rd)\n",
    "\n",
    "import distance as dt\n",
    "importlib.reload(dt)\n",
    "\n",
    "import window_list as wl\n",
    "importlib.reload(wl)\n",
    "\n",
    "import clustering as cl \n",
    "importlib.reload(cl)\n",
    "\n"
   ]
  },
  {
   "cell_type": "code",
   "execution_count": 3,
   "metadata": {},
   "outputs": [
    {
     "name": "stderr",
     "output_type": "stream",
     "text": [
      "100%|██████████| 1096/1096 [00:00<00:00, 5254.45it/s]\n",
      "0it [00:00, ?it/s]/home/hj/cluster_mining_memory_network/distance.py:18: RuntimeWarning: invalid value encountered in double_scalars\n",
      "  sim = np.dot(series_1, series_2) / (np.linalg.norm(series_1) * np.linalg.norm(series_2))\n",
      "1000it [00:14, 70.78it/s]\n"
     ]
    }
   ],
   "source": [
    "\n",
    "ts_list = rd.read_data(\"elec\", window=48, stride=24)\n",
    "\n",
    "\n",
    "fourier_cos_distance_list = dt.pairwise_distance(ts_list[:1000], dt.cosine_similarity_with_fourier_distance)"
   ]
  },
  {
   "cell_type": "code",
   "execution_count": null,
   "metadata": {},
   "outputs": [],
   "source": [
    "plt.hist(fourier_cos_distance_list, bins=100)"
   ]
  },
  {
   "cell_type": "code",
   "execution_count": 28,
   "metadata": {},
   "outputs": [
    {
     "name": "stdout",
     "output_type": "stream",
     "text": [
      "102\n"
     ]
    }
   ],
   "source": [
    "cluster_list = cl.key_extraction(np.array(ts_list)[:200000], 0.25)\n",
    "\n",
    "element_list = []\n",
    "for cluster in cluster_list:\n",
    "\telement_list.append(cluster)\n",
    "\n",
    "print(len(element_list))\n",
    "\n",
    "# clustered_dist_list = dt.pairwise_distance(element_list, dt.cosine_similarity_with_fourier_distance)"
   ]
  },
  {
   "cell_type": "code",
   "execution_count": null,
   "metadata": {},
   "outputs": [],
   "source": [
    "ustered_dist_list = dt.pairwise_distance(element_list, dt.cosine_similarity_with_fourier_distance)\n",
    "\n",
    "plt.hist(ustered_dist_list, bins=100)"
   ]
  }
 ],
 "metadata": {
  "kernelspec": {
   "display_name": "Python 3.8.5 ('base')",
   "language": "python",
   "name": "python3"
  },
  "language_info": {
   "codemirror_mode": {
    "name": "ipython",
    "version": 3
   },
   "file_extension": ".py",
   "mimetype": "text/x-python",
   "name": "python",
   "nbconvert_exporter": "python",
   "pygments_lexer": "ipython3",
   "version": "3.8.5"
  },
  "orig_nbformat": 4,
  "vscode": {
   "interpreter": {
    "hash": "999de06ac1450a78a70b06b4b0bc96519bd96aac782a45474dde65c4f0c889b7"
   }
  }
 },
 "nbformat": 4,
 "nbformat_minor": 2
}
